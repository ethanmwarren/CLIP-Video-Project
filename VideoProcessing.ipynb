{
 "cells": [
  {
   "cell_type": "markdown",
   "id": "51903009-6313-4bc7-8ef3-6b802741dadf",
   "metadata": {},
   "source": [
    "This code was taken from https://www.thepythoncode.com/article/extract-frames-from-videos-in-python. All credit goes to them.\n",
    "\n",
    "I have no prior experience working with the OpenCV package, so I'm using their code to get a feel for it."
   ]
  },
  {
   "cell_type": "code",
   "execution_count": 15,
   "id": "a60ce206-da1b-4ec3-afae-d8ef6e27126c",
   "metadata": {},
   "outputs": [],
   "source": [
    "from datetime import timedelta\n",
    "import cv2\n",
    "import numpy as np\n",
    "import os"
   ]
  },
  {
   "cell_type": "code",
   "execution_count": 16,
   "id": "78c5427e-55fb-48f8-b067-eb689fc5ab49",
   "metadata": {},
   "outputs": [],
   "source": [
    "def format_timedelta(td):\n",
    "    '''Utility function to format timedelta objects in a cool way (e.g. 00:00:20.5)\n",
    "    omitting microseconds and retaining milliseconds'''\n",
    "    result = str(td)\n",
    "    try:\n",
    "        result, ms = result.split(\".\")\n",
    "    except ValueError:\n",
    "        return result + \".00\".replace(\":\", \"-\")\n",
    "    ms = int(ms)\n",
    "    ms = round(ms/1e4)\n",
    "    return f\"{result}.{ms:02}\".replace(\":\", \"-\")\n",
    "\n",
    "def get_saving_frames_durations(cap, saving_fps):\n",
    "    '''A function that returns the list of durations where to save the frames'''\n",
    "    s = []\n",
    "    # get the clip duration by dividing number of frames by the number of frames per second\n",
    "    clip_duration = cap.get(cv2.CAP_PROP_FRAME_COUNT) / cap.get(cv2.CAP_PROP_FPS)\n",
    "    # use np.arange() to make floating-point steps\n",
    "    for i in np.arange(0, clip_duration, 1 / saving_fps):\n",
    "        s.append(i)\n",
    "    return s"
   ]
  },
  {
   "cell_type": "code",
   "execution_count": 30,
   "id": "63f2323e-e277-4e1b-8b81-20bbd86ab5df",
   "metadata": {},
   "outputs": [],
   "source": [
    "def main(video_file):\n",
    "    \n",
    "    filename, _ = os.path.splitext(video_file)\n",
    "    filename += \"-opencv\"\n",
    "    \n",
    "    # make a folder by the name of the video file\n",
    "    if not os.path.isdir(filename):\n",
    "        os.mkdir(filename)\n",
    "    \n",
    "    # read the video file\n",
    "    cap = cv2.VideoCapture(video_file)\n",
    "    \n",
    "    # get the fps of the video\n",
    "    fps = cap.get(cv2.CAP_PROP_FPS)\n",
    "    \n",
    "    # if the SAVIGN_FRAMES_PER_SECOND is above video fps, then set it to fps (as maximum)\n",
    "    saving_frames_per_second = min(fps, SAVING_FRAMES_PER_SECOND)\n",
    "    \n",
    "    # get the list and duration spots to save\n",
    "    saving_frames_durations = get_saving_frames_durations(cap, saving_frames_per_second)\n",
    "    \n",
    "    # start the loop\n",
    "    count = 0\n",
    "    while True:\n",
    "        is_read, frame = cap.read()\n",
    "        if not is_read:\n",
    "            # break out of the loop if there are no frames to read\n",
    "            break\n",
    "        # get the duration by dividing the frame count by the FPS\n",
    "        frame_duration = count / fps\n",
    "        try:\n",
    "            # get the earliest duration to save\n",
    "            closest_duration = saving_frames_durations[0]\n",
    "        except IndexError:\n",
    "            # the list is empty, all duration frames were saved\n",
    "            break\n",
    "        if frame_duration >= closest_duration:\n",
    "            # if closest duration is less than or equals the frame duration, \n",
    "            # then save the frame\n",
    "            frame_duration_formatted = format_timedelta(timedelta(seconds=frame_duration))\n",
    "            cv2.imwrite(os.path.join(filename, f\"frame{frame_duration_formatted}.jpg\"), frame) \n",
    "            # drop the duration spot from the list, since this duration spot is already saved\n",
    "            try:\n",
    "                saving_frames_durations.pop(0)\n",
    "            except IndexError:\n",
    "                pass\n",
    "        # increment the frame count\n",
    "        count += 1"
   ]
  },
  {
   "cell_type": "code",
   "execution_count": 31,
   "id": "d7fcf426-40de-40bd-b8d2-b895492dc61c",
   "metadata": {},
   "outputs": [],
   "source": [
    "SAVING_FRAMES_PER_SECOND = 10\n",
    "main(\"football.mp4\")"
   ]
  },
  {
   "cell_type": "code",
   "execution_count": null,
   "id": "44d57ab5-d330-4ff3-b507-88fdfe0d4561",
   "metadata": {},
   "outputs": [],
   "source": []
  }
 ],
 "metadata": {
  "kernelspec": {
   "display_name": "Python 3 (ipykernel)",
   "language": "python",
   "name": "python3"
  },
  "language_info": {
   "codemirror_mode": {
    "name": "ipython",
    "version": 3
   },
   "file_extension": ".py",
   "mimetype": "text/x-python",
   "name": "python",
   "nbconvert_exporter": "python",
   "pygments_lexer": "ipython3",
   "version": "3.8.8"
  }
 },
 "nbformat": 4,
 "nbformat_minor": 5
}
