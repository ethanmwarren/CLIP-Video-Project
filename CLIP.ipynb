{
 "cells": [
  {
   "cell_type": "code",
   "execution_count": 2,
   "id": "3ff64e74-5c56-4924-909c-ce11bf27986a",
   "metadata": {},
   "outputs": [
    {
     "data": {
      "text/plain": [
       "['RN50',\n",
       " 'RN101',\n",
       " 'RN50x4',\n",
       " 'RN50x16',\n",
       " 'RN50x64',\n",
       " 'ViT-B/32',\n",
       " 'ViT-B/16',\n",
       " 'ViT-L/14',\n",
       " 'ViT-L/14@336px']"
      ]
     },
     "execution_count": 2,
     "metadata": {},
     "output_type": "execute_result"
    }
   ],
   "source": [
    "import os\n",
    "import clip\n",
    "import torch\n",
    "clip.available_models()"
   ]
  },
  {
   "cell_type": "code",
   "execution_count": 6,
   "id": "70c6a6c2-6b5c-44aa-8f28-513f90312466",
   "metadata": {},
   "outputs": [
    {
     "name": "stdout",
     "output_type": "stream",
     "text": [
      "\n",
      "Please wait a moment while I gather a list of all available modules...\n",
      "\n"
     ]
    },
    {
     "name": "stderr",
     "output_type": "stream",
     "text": [
      "/Users/ethanwarren/.local/lib/python3.8/site-packages/nltk/twitter/__init__.py:20: UserWarning: The twython library has not been installed. Some functionality from the twitter package will not be available.\n",
      "  warnings.warn(\n",
      "WARNING: AstropyDeprecationWarning: The private astropy._erfa module has been made into its own package, pyerfa, which is a dependency of astropy and can be imported directly using \"import erfa\" [astropy._erfa]\n",
      "/Users/ethanwarren/opt/anaconda3/lib/python3.8/site-packages/glue/external/echo/__init__.py:3: UserWarning: glue.external.echo is deprecated, import from echo directly instead\n",
      "  warnings.warn('glue.external.echo is deprecated, import from echo directly instead')\n",
      "WARNING: Could not load OpenGL library.\n",
      "WARNING:vispy:Could not load OpenGL library.\n",
      "/Users/ethanwarren/opt/anaconda3/lib/python3.8/site-packages/glue_vispy_viewers/extern/vispy/visuals/line/line.py:391: FutureWarning: Passing (type, 1) or '1type' as a synonym of type is deprecated; in a future version of numpy, it will be understood as (type, (1,)) / '(1,)type'.\n",
      "  _agg_vtype = np.dtype([('a_position', np.float32, 2),\n",
      "/Users/ethanwarren/opt/anaconda3/lib/python3.8/site-packages/glue_vispy_viewers/extern/vispy/visuals/line/arrow.py:50: FutureWarning: Passing (type, 1) or '1type' as a synonym of type is deprecated; in a future version of numpy, it will be understood as (type, (1,)) / '(1,)type'.\n",
      "  _arrow_vtype = np.dtype([\n",
      "/Users/ethanwarren/opt/anaconda3/lib/python3.8/site-packages/_distutils_hack/__init__.py:30: UserWarning: Setuptools is replacing distutils.\n",
      "  warnings.warn(\"Setuptools is replacing distutils.\")\n",
      "/Users/ethanwarren/opt/anaconda3/lib/python3.8/site-packages/tqdm/auto.py:22: TqdmWarning:\n",
      "\n",
      "IProgress not found. Please update jupyter and ipywidgets. See https://ipywidgets.readthedocs.io/en/stable/user_install.html\n",
      "\n"
     ]
    },
    {
     "name": "stdout",
     "output_type": "stream",
     "text": [
      "AnyQt               baycomp             io                  queue\n",
      "IPython             bdb                 ipaddress           quopri\n",
      "OpenGL              benchmark           ipykernel           random\n",
      "OpenSSL             binascii            ipykernel_launcher  re\n",
      "Orange              binhex              ipython_genutils    readline\n",
      "PIL                 binstar_client      itertools           regex\n",
      "PyQt5               bisect              jedi                repo_cli\n",
      "__future__          bleach              jinja2              reprlib\n",
      "_abc                bottleneck          joblib              requests\n",
      "_argon2_cffi_bindings brotli              json                resource\n",
      "_ast                bs4                 json5               rfc3986\n",
      "_asyncio            builtins            jsonschema          rlcompleter\n",
      "_bisect             bz2                 jupyter             ruamel_yaml\n",
      "_blake2             cProfile            jupyter_client      runpy\n",
      "_bootlocale         cachecontrol        jupyter_core        sched\n",
      "_bz2                caffe2              jupyter_server      scipy\n",
      "_cffi_backend       calendar            jupyterlab          seaborn\n",
      "_codecs             certifi             jupyterlab_plotly   secrets\n",
      "_codecs_cn          cffi                jupyterlab_pygments select\n",
      "_codecs_hk          cgi                 jupyterlab_server   selectors\n",
      "_codecs_iso2022     cgitb               jwt                 send2trash\n",
      "_codecs_jp          chardet             keyring             serverfiles\n",
      "_codecs_kr          charset_normalizer  keyrings            setuptools\n",
      "_codecs_tw          chunk               keyword             shelve\n",
      "_collections        click               kiwisolver          shlex\n",
      "_collections_abc    clip                kymatio             shutil\n",
      "_compat_pickle      cloudpickle         lib2to3             signal\n",
      "_compression        clyent              libarchive          sip\n",
      "_contextvars        cmath               libfuturize         sipconfig\n",
      "_crypt              cmd                 libpasteurize       sipdistutils\n",
      "_csv                code                lief                site\n",
      "_ctypes             codecs              linecache           six\n",
      "_ctypes_test        codeop              llvmlite            skimage\n",
      "_curses             collections         locale              sklearn\n",
      "_curses_panel       colorama            locket              smtpd\n",
      "_datetime           colorsys            lockfile            smtplib\n",
      "_dbm                commonmark          logging             sndhdr\n",
      "_decimal            community           lzma                sniffio\n",
      "_distutils_hack     compileall          mailbox             socket\n",
      "_dummy_thread       concurrent          mailcap             socketserver\n",
      "_elementtree        conda               markupsafe          socks\n",
      "_functools          conda_build         marshal             sockshandler\n",
      "_hashlib            conda_content_trust math                soupsieve\n",
      "_heapq              conda_env           matplotlib          sqlite3\n",
      "_imp                conda_package_handling matplotlib_inline   sre_compile\n",
      "_io                 conda_token         mimetypes           sre_constants\n",
      "_json               conda_verify        mistune             sre_parse\n",
      "_locale             configparser        mkl                 ssl\n",
      "_lsprof             contextlib          mkl_fft             stack_data\n",
      "_lzma               contextvars         mkl_random          stat\n",
      "_markupbase         copy                mmap                statistics\n",
      "_md5                copyreg             modulefinder        string\n",
      "_multibytecodec     crypt               mpl_scatter_density stringprep\n",
      "_multiprocessing    cryptography        msgpack             struct\n",
      "_opcode             csv                 multiprocessing     subprocess\n",
      "_operator           ctypes              munkres             sunau\n",
      "_osx_support        curses              navigator_updater   symbol\n",
      "_pickle             cycler              nbclassic           symtable\n",
      "_plotly_future_     cytoolz             nbclient            sys\n",
      "_plotly_utils       dask                nbconvert           sysconfig\n",
      "_posixshmem         dataclasses         nbformat            syslog\n",
      "_posixsubprocess    datetime            nest_asyncio        tabnanny\n",
      "_py_abc             dateutil            netrc               tarfile\n",
      "_pydecimal          dbm                 networkx            telnetlib\n",
      "_pyio               debugpy             nis                 tempfile\n",
      "_pyrsistent_version decimal             nltk                tenacity\n",
      "_queue              decorator           nntplib             terminado\n",
      "_random             defusedxml          notebook            termios\n",
      "_scproxy            dictdiffer          ntpath              test\n",
      "_sha1               difflib             nturl2path          test_pycosat\n",
      "_sha256             dill                numba               testpath\n",
      "_sha3               dis                 numbers             tests\n",
      "_sha512             distutils           numexpr             textwrap\n",
      "_signal             doctest             numpy               this\n",
      "_sitebuiltins       docutils            opcode              threading\n",
      "_socket             dummy_threading     openTSNE            threadpoolctl\n",
      "_sqlite3            echo                openpyxl            tifffile\n",
      "_sre                email               operator            time\n",
      "_ssl                encodings           optparse            timeit\n",
      "_stat               ensurepip           orangecanvas        tkinter\n",
      "_statistics         entrypoints         orangewidget        tlz\n",
      "_string             enum                os                  token\n",
      "_strptime           erfa                packaging           tokenize\n",
      "_struct             errno               pandas              toolz\n",
      "_symtable           et_xmlfile          pandocfilters       torch\n",
      "_sysconfigdata__darwin_darwin executing           parser              torchaudio\n",
      "_sysconfigdata_aarch64_conda_cos7_linux_gnu fast_histogram      parso               torchgen\n",
      "_sysconfigdata_aarch64_conda_linux_gnu faulthandler        partd               torchvision\n",
      "_sysconfigdata_i686_conda_cos6_linux_gnu fcntl               past                tornado\n",
      "_sysconfigdata_powerpc64le_conda_cos7_linux_gnu filecmp             pathlib             tqdm\n",
      "_sysconfigdata_s390x_conda_cos7_linux_gnu fileinput           pdb                 trace\n",
      "_sysconfigdata_s390x_conda_linux_gnu filelock            pexpect             traceback\n",
      "_sysconfigdata_x86_64_apple_darwin13_4_0 fnmatch             pickle              tracemalloc\n",
      "_sysconfigdata_x86_64_conda_cos6_linux_gnu fontTools           pickleshare         traitlets\n",
      "_testbuffer         formatter           pickletools         tty\n",
      "_testcapi           fractions           pip                 turtle\n",
      "_testimportmultiple fsspec              pipes               turtledemo\n",
      "_testinternalcapi   ftfy                pkg_resources       types\n",
      "_testmultiphase     ftplib              pkginfo             typing\n",
      "_thread             functools           pkgutil             typing_extensions\n",
      "_threading_local    future              platform            ujson\n",
      "_tkinter            gc                  plistlib            unicodedata\n",
      "_tracemalloc        genericpath         plotly              unittest\n",
      "_uuid               getopt              poplib              urllib\n",
      "_warnings           getpass             posix               urllib3\n",
      "_weakref            gettext             posixpath           uu\n",
      "_weakrefset         glob                pprint              uuid\n",
      "_xxsubinterpreters  glob2               profile             venv\n",
      "_xxtestfuzz         glue                prometheus_client   warnings\n",
      "_yaml               glue_vispy_viewers  prompt_toolkit      wave\n",
      "abc                 grp                 pstats              wcwidth\n",
      "aifc                gzip                psutil              weakref\n",
      "anaconda_navigator  h11                 pty                 webbrowser\n",
      "antigravity         h2                  ptyprocess          webencodings\n",
      "anyio               h5py                pure_eval           websocket\n",
      "appdirs             hashlib             pvectorc            wheel\n",
      "appnope             heapq               pwd                 wsgiref\n",
      "argon2              hmac                py_compile          xdrlib\n",
      "argparse            hpack               pyclbr              xlrd\n",
      "array               html                pycosat             xlsxwriter\n",
      "ast                 http                pycparser           xml\n",
      "astropy             httpcore            pydoc               xmlrpc\n",
      "asttokens           httpx               pydoc_data          xmltodict\n",
      "asynchat            hyperframe          pyexpat             xxlimited\n",
      "asyncio             idlelib             pygments            xxsubtype\n",
      "asyncore            idna                pylab               yaml\n",
      "atexit              imagecodecs         pynndescent         zipapp\n",
      "attr                imageio             pyparsing           zipfile\n",
      "attrs               imaplib             pyqtgraph           zipimport\n",
      "audioop             imghdr              pyrsistent          zipp\n",
      "babel               imp                 pytz                zlib\n",
      "backcall            importlib           pywt                zmq\n",
      "backports           importlib_metadata  qtconsole           \n",
      "base64              inspect             qtpy                \n",
      "\n",
      "Enter any module name to get more help.  Or, type \"modules spam\" to search\n",
      "for modules whose name or summary contain the string \"spam\".\n",
      "\n"
     ]
    },
    {
     "name": "stderr",
     "output_type": "stream",
     "text": [
      "/Users/ethanwarren/opt/anaconda3/lib/python3.8/pkgutil.py:107: VisibleDeprecationWarning:\n",
      "\n",
      "zmq.eventloop.minitornado is deprecated in pyzmq 14.0 and will be removed.\n",
      "    Install tornado itself to use zmq with the tornado IOLoop.\n",
      "    \n",
      "\n"
     ]
    }
   ],
   "source": [
    "help('modules')"
   ]
  },
  {
   "cell_type": "code",
   "execution_count": 7,
   "id": "1fa77d5d-7c25-4e10-b870-a048672e362c",
   "metadata": {},
   "outputs": [
    {
     "ename": "ValueError",
     "evalue": "module functions cannot set METH_CLASS or METH_STATIC",
     "output_type": "error",
     "traceback": [
      "\u001b[0;31m---------------------------------------------------------------------------\u001b[0m",
      "\u001b[0;31mValueError\u001b[0m                                Traceback (most recent call last)",
      "Input \u001b[0;32mIn [7]\u001b[0m, in \u001b[0;36m<cell line: 1>\u001b[0;34m()\u001b[0m\n\u001b[0;32m----> 1\u001b[0m \u001b[38;5;28;01mimport\u001b[39;00m \u001b[38;5;21;01mclip\u001b[39;00m\n",
      "File \u001b[0;32m~/opt/anaconda3/lib/python3.8/site-packages/clip/__init__.py:1\u001b[0m, in \u001b[0;36m<module>\u001b[0;34m\u001b[0m\n\u001b[0;32m----> 1\u001b[0m \u001b[38;5;28;01mfrom\u001b[39;00m \u001b[38;5;21;01m.\u001b[39;00m\u001b[38;5;21;01mclip\u001b[39;00m \u001b[38;5;28;01mimport\u001b[39;00m \u001b[38;5;241m*\u001b[39m\n",
      "File \u001b[0;32m~/opt/anaconda3/lib/python3.8/site-packages/clip/clip.py:8\u001b[0m, in \u001b[0;36m<module>\u001b[0;34m\u001b[0m\n\u001b[1;32m      5\u001b[0m \u001b[38;5;28;01mfrom\u001b[39;00m \u001b[38;5;21;01mtyping\u001b[39;00m \u001b[38;5;28;01mimport\u001b[39;00m Any, Union, List\n\u001b[1;32m      6\u001b[0m \u001b[38;5;28;01mfrom\u001b[39;00m \u001b[38;5;21;01mpkg_resources\u001b[39;00m \u001b[38;5;28;01mimport\u001b[39;00m packaging\n\u001b[0;32m----> 8\u001b[0m \u001b[38;5;28;01mimport\u001b[39;00m \u001b[38;5;21;01mtorch\u001b[39;00m\n\u001b[1;32m      9\u001b[0m \u001b[38;5;28;01mfrom\u001b[39;00m \u001b[38;5;21;01mPIL\u001b[39;00m \u001b[38;5;28;01mimport\u001b[39;00m Image\n\u001b[1;32m     10\u001b[0m \u001b[38;5;28;01mfrom\u001b[39;00m \u001b[38;5;21;01mtorchvision\u001b[39;00m\u001b[38;5;21;01m.\u001b[39;00m\u001b[38;5;21;01mtransforms\u001b[39;00m \u001b[38;5;28;01mimport\u001b[39;00m Compose, Resize, CenterCrop, ToTensor, Normalize\n",
      "File \u001b[0;32m~/opt/anaconda3/lib/python3.8/site-packages/torch/__init__.py:202\u001b[0m, in \u001b[0;36m<module>\u001b[0;34m\u001b[0m\n\u001b[1;32m    200\u001b[0m     \u001b[38;5;28;01mif\u001b[39;00m USE_GLOBAL_DEPS:\n\u001b[1;32m    201\u001b[0m         _load_global_deps()\n\u001b[0;32m--> 202\u001b[0m     \u001b[38;5;28;01mfrom\u001b[39;00m \u001b[38;5;21;01mtorch\u001b[39;00m\u001b[38;5;21;01m.\u001b[39;00m\u001b[38;5;21;01m_C\u001b[39;00m \u001b[38;5;28;01mimport\u001b[39;00m \u001b[38;5;241m*\u001b[39m  \u001b[38;5;66;03m# noqa: F403\u001b[39;00m\n\u001b[1;32m    204\u001b[0m \u001b[38;5;66;03m# Appease the type checker; ordinarily this binding is inserted by the\u001b[39;00m\n\u001b[1;32m    205\u001b[0m \u001b[38;5;66;03m# torch._C module initialization code in C\u001b[39;00m\n\u001b[1;32m    206\u001b[0m \u001b[38;5;28;01mif\u001b[39;00m TYPE_CHECKING:\n",
      "\u001b[0;31mValueError\u001b[0m: module functions cannot set METH_CLASS or METH_STATIC"
     ]
    }
   ],
   "source": [
    "import clip"
   ]
  },
  {
   "cell_type": "code",
   "execution_count": 9,
   "id": "88ce62cc-a619-4aca-9cad-c3f125674ff3",
   "metadata": {},
   "outputs": [
    {
     "ename": "ValueError",
     "evalue": "module functions cannot set METH_CLASS or METH_STATIC",
     "output_type": "error",
     "traceback": [
      "\u001b[0;31m---------------------------------------------------------------------------\u001b[0m",
      "\u001b[0;31mValueError\u001b[0m                                Traceback (most recent call last)",
      "Input \u001b[0;32mIn [9]\u001b[0m, in \u001b[0;36m<cell line: 1>\u001b[0;34m()\u001b[0m\n\u001b[0;32m----> 1\u001b[0m \u001b[38;5;28;01mimport\u001b[39;00m \u001b[38;5;21;01mtorch\u001b[39;00m\n",
      "File \u001b[0;32m~/opt/anaconda3/lib/python3.8/site-packages/torch/__init__.py:202\u001b[0m, in \u001b[0;36m<module>\u001b[0;34m\u001b[0m\n\u001b[1;32m    200\u001b[0m     \u001b[38;5;28;01mif\u001b[39;00m USE_GLOBAL_DEPS:\n\u001b[1;32m    201\u001b[0m         _load_global_deps()\n\u001b[0;32m--> 202\u001b[0m     \u001b[38;5;28;01mfrom\u001b[39;00m \u001b[38;5;21;01mtorch\u001b[39;00m\u001b[38;5;21;01m.\u001b[39;00m\u001b[38;5;21;01m_C\u001b[39;00m \u001b[38;5;28;01mimport\u001b[39;00m \u001b[38;5;241m*\u001b[39m  \u001b[38;5;66;03m# noqa: F403\u001b[39;00m\n\u001b[1;32m    204\u001b[0m \u001b[38;5;66;03m# Appease the type checker; ordinarily this binding is inserted by the\u001b[39;00m\n\u001b[1;32m    205\u001b[0m \u001b[38;5;66;03m# torch._C module initialization code in C\u001b[39;00m\n\u001b[1;32m    206\u001b[0m \u001b[38;5;28;01mif\u001b[39;00m TYPE_CHECKING:\n",
      "\u001b[0;31mValueError\u001b[0m: module functions cannot set METH_CLASS or METH_STATIC"
     ]
    }
   ],
   "source": [
    "import torch"
   ]
  },
  {
   "cell_type": "code",
   "execution_count": 10,
   "id": "7379808e-8b3b-49b9-bdae-953e8992210f",
   "metadata": {},
   "outputs": [],
   "source": [
    "import pandas"
   ]
  },
  {
   "cell_type": "code",
   "execution_count": 11,
   "id": "c1538a1b-1063-4e20-a4ea-7487d1255109",
   "metadata": {},
   "outputs": [
    {
     "ename": "ValueError",
     "evalue": "module functions cannot set METH_CLASS or METH_STATIC",
     "output_type": "error",
     "traceback": [
      "\u001b[0;31m---------------------------------------------------------------------------\u001b[0m",
      "\u001b[0;31mValueError\u001b[0m                                Traceback (most recent call last)",
      "Input \u001b[0;32mIn [11]\u001b[0m, in \u001b[0;36m<cell line: 1>\u001b[0;34m()\u001b[0m\n\u001b[0;32m----> 1\u001b[0m \u001b[38;5;28;01mimport\u001b[39;00m \u001b[38;5;21;01mtorch\u001b[39;00m\n",
      "File \u001b[0;32m~/opt/anaconda3/lib/python3.8/site-packages/torch/__init__.py:202\u001b[0m, in \u001b[0;36m<module>\u001b[0;34m\u001b[0m\n\u001b[1;32m    200\u001b[0m     \u001b[38;5;28;01mif\u001b[39;00m USE_GLOBAL_DEPS:\n\u001b[1;32m    201\u001b[0m         _load_global_deps()\n\u001b[0;32m--> 202\u001b[0m     \u001b[38;5;28;01mfrom\u001b[39;00m \u001b[38;5;21;01mtorch\u001b[39;00m\u001b[38;5;21;01m.\u001b[39;00m\u001b[38;5;21;01m_C\u001b[39;00m \u001b[38;5;28;01mimport\u001b[39;00m \u001b[38;5;241m*\u001b[39m  \u001b[38;5;66;03m# noqa: F403\u001b[39;00m\n\u001b[1;32m    204\u001b[0m \u001b[38;5;66;03m# Appease the type checker; ordinarily this binding is inserted by the\u001b[39;00m\n\u001b[1;32m    205\u001b[0m \u001b[38;5;66;03m# torch._C module initialization code in C\u001b[39;00m\n\u001b[1;32m    206\u001b[0m \u001b[38;5;28;01mif\u001b[39;00m TYPE_CHECKING:\n",
      "\u001b[0;31mValueError\u001b[0m: module functions cannot set METH_CLASS or METH_STATIC"
     ]
    }
   ],
   "source": [
    "import torch"
   ]
  },
  {
   "cell_type": "code",
   "execution_count": 3,
   "id": "18ffea19-b109-4d11-a81e-2d6ce8d43bdf",
   "metadata": {},
   "outputs": [
    {
     "name": "stderr",
     "output_type": "stream",
     "text": [
      "100%|███████████████████████████████████████| 338M/338M [01:14<00:00, 4.73MiB/s]\n"
     ]
    },
    {
     "name": "stdout",
     "output_type": "stream",
     "text": [
      "Downloading https://www.cs.toronto.edu/~kriz/cifar-100-python.tar.gz to /Users/ethanwarren/.cache/cifar-100-python.tar.gz\n"
     ]
    },
    {
     "name": "stderr",
     "output_type": "stream",
     "text": [
      "100%|████████████████████████| 169001437/169001437 [00:38<00:00, 4368304.74it/s]\n"
     ]
    },
    {
     "name": "stdout",
     "output_type": "stream",
     "text": [
      "Extracting /Users/ethanwarren/.cache/cifar-100-python.tar.gz to /Users/ethanwarren/.cache\n",
      "\n",
      "Top predictions:\n",
      "\n",
      "           snake: 65.31%\n",
      "          turtle: 12.29%\n",
      "    sweet_pepper: 3.83%\n",
      "          lizard: 1.88%\n",
      "       crocodile: 1.75%\n"
     ]
    }
   ],
   "source": [
    "import os\n",
    "import clip\n",
    "import torch\n",
    "from torchvision.datasets import CIFAR100\n",
    "\n",
    "# Load the model\n",
    "device = \"cuda\" if torch.cuda.is_available() else \"cpu\"\n",
    "model, preprocess = clip.load('ViT-B/32', device)\n",
    "\n",
    "# Download the dataset\n",
    "cifar100 = CIFAR100(root=os.path.expanduser(\"~/.cache\"), download=True, train=False)\n",
    "\n",
    "# Prepare the inputs\n",
    "image, class_id = cifar100[3637]\n",
    "image_input = preprocess(image).unsqueeze(0).to(device)\n",
    "text_inputs = torch.cat([clip.tokenize(f\"a photo of a {c}\") for c in cifar100.classes]).to(device)\n",
    "\n",
    "# Calculate features\n",
    "with torch.no_grad():\n",
    "    image_features = model.encode_image(image_input)\n",
    "    text_features = model.encode_text(text_inputs)\n",
    "\n",
    "# Pick the top 5 most similar labels for the image\n",
    "image_features /= image_features.norm(dim=-1, keepdim=True)\n",
    "text_features /= text_features.norm(dim=-1, keepdim=True)\n",
    "similarity = (100.0 * image_features @ text_features.T).softmax(dim=-1)\n",
    "values, indices = similarity[0].topk(5)\n",
    "\n",
    "# Print the result\n",
    "print(\"\\nTop predictions:\\n\")\n",
    "for value, index in zip(values, indices):\n",
    "    print(f\"{cifar100.classes[index]:>16s}: {100 * value.item():.2f}%\")"
   ]
  },
  {
   "cell_type": "code",
   "execution_count": null,
   "id": "b278c51a-43f0-4b95-bc37-fbcde1527e1b",
   "metadata": {},
   "outputs": [],
   "source": []
  }
 ],
 "metadata": {
  "kernelspec": {
   "display_name": "Python 3 (ipykernel)",
   "language": "python",
   "name": "python3"
  },
  "language_info": {
   "codemirror_mode": {
    "name": "ipython",
    "version": 3
   },
   "file_extension": ".py",
   "mimetype": "text/x-python",
   "name": "python",
   "nbconvert_exporter": "python",
   "pygments_lexer": "ipython3",
   "version": "3.8.8"
  }
 },
 "nbformat": 4,
 "nbformat_minor": 5
}
