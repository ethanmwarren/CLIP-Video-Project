{
 "cells": [
  {
   "cell_type": "markdown",
   "id": "3f3cd676-a8a3-4df6-9502-6a660449d0e0",
   "metadata": {
    "tags": []
   },
   "source": [
    "## Averaging Frames\n",
    "\n",
    "In this notebook I want to write some code that will take in a video, split it up by frame and run it through clip, then average all the frames of the video into one big vector."
   ]
  },
  {
   "cell_type": "code",
   "execution_count": 3,
   "id": "ef406d86-3d19-4873-b3a7-6ab60e93e6aa",
   "metadata": {},
   "outputs": [],
   "source": [
    "import cv2\n",
    "import numpy as np\n",
    "import os\n",
    "%matplotlib inline \n",
    "from matplotlib import pyplot as plt\n",
    "from PIL import Image\n",
    "import os\n",
    "import clip\n",
    "import torch"
   ]
  },
  {
   "cell_type": "code",
   "execution_count": 7,
   "id": "cf721516-97a0-4a63-9f5d-5b0e2edddca3",
   "metadata": {},
   "outputs": [],
   "source": [
    "def get_saving_frames_durations(cap, saving_fps):\n",
    "    '''A function that returns the list of durations where to save the frames'''\n",
    "    s = []\n",
    "    # get the clip duration by dividing number of frames by the number of frames per second\n",
    "    clip_duration = cap.get(cv2.CAP_PROP_FRAME_COUNT) / cap.get(cv2.CAP_PROP_FPS)\n",
    "    # use np.arange() to make floating-point steps\n",
    "    for i in np.arange(0, clip_duration, 1 / saving_fps):\n",
    "        s.append(i)\n",
    "    return s"
   ]
  },
  {
   "cell_type": "code",
   "execution_count": 30,
   "id": "0a6658c4-5c43-4075-a095-cf483c10356b",
   "metadata": {
    "tags": []
   },
   "outputs": [],
   "source": [
    "def save_video_frames(video_file, SAVING_FRAMES_PER_SECOND):\n",
    "    '''A function that saves the individual frames of a video, returning a list containing\n",
    "    each frame, saved as an image saved in a numpy array.\n",
    "    \n",
    "    Saving frames per second is the desired number of frames to be saved from each second\n",
    "    of the video.\n",
    "    '''\n",
    "    \n",
    "    # read the video file\n",
    "    cap = cv2.VideoCapture(video_file)\n",
    "    \n",
    "    # get the fps of the video\n",
    "    fps = cap.get(cv2.CAP_PROP_FPS)\n",
    "    \n",
    "    # if the SAVIGN_FRAMES_PER_SECOND is above video fps, then set it to fps (as maximum)\n",
    "    saving_frames_per_second = min(fps, SAVING_FRAMES_PER_SECOND)\n",
    "    \n",
    "    # get the list and duration spots to save\n",
    "    saving_frames_durations = get_saving_frames_durations(cap, saving_frames_per_second)\n",
    "    \n",
    "    # start the loop\n",
    "    count = 0\n",
    "    all_frames = []\n",
    "    while True:\n",
    "        is_read, frame = cap.read()\n",
    "        if not is_read:\n",
    "            # break out of the loop if there are no frames to read\n",
    "            break\n",
    "        # Reverse colors to be in RGB format\n",
    "        frame = frame[...,::-1]\n",
    "        # get the duration by dividing the frame count by the FPS\n",
    "        frame_duration = count / fps\n",
    "        try:\n",
    "            # get the earliest duration to save\n",
    "            closest_duration = saving_frames_durations[0]\n",
    "        except IndexError:\n",
    "            # the list is empty, all duration frames were saved\n",
    "            break\n",
    "        if frame_duration >= closest_duration:\n",
    "            # if closest duration is less than or equals the frame duration, \n",
    "            # then save the frame\n",
    "            all_frames.append(frame) \n",
    "            # drop the duration spot from the list, since this duration spot is already saved\n",
    "            try:\n",
    "                saving_frames_durations.pop(0)\n",
    "            except IndexError:\n",
    "                pass\n",
    "        # increment the frame count\n",
    "        count += 1\n",
    "    \n",
    "    # video = np.stack(all_frames, axis=0)\n",
    "    return all_frames"
   ]
  },
  {
   "cell_type": "code",
   "execution_count": 10,
   "id": "8b9a3d27-c9e3-4142-86a9-07aee2307a5d",
   "metadata": {},
   "outputs": [],
   "source": [
    "model, preprocess = clip.load(\"ViT-B/32\", device = 'cpu')"
   ]
  },
  {
   "cell_type": "code",
   "execution_count": 14,
   "id": "9d58b48d-c69c-4792-93f4-b8aa864f0655",
   "metadata": {},
   "outputs": [],
   "source": [
    "def apply_clip(frames, model, preprocess, device = \"cpu\"):\n",
    "    image_inputs = [preprocess(Image.fromarray(image)).unsqueeze(0).to(device) for image in frames]\n",
    "    \n",
    "    with torch.no_grad():\n",
    "        image_features = [model.encode_image(image_input) for image_input in image_inputs]\n",
    "        \n",
    "    return image_features"
   ]
  },
  {
   "cell_type": "code",
   "execution_count": 23,
   "id": "55591079-a4f9-41dd-a9e1-fb3d0bab06f4",
   "metadata": {},
   "outputs": [],
   "source": [
    "def average_vectors(encoded_frames):\n",
    "    '''A function that returns the average image from all frames in a list.'''\n",
    "    \n",
    "    number_of_frames = len(encoded_frames)\n",
    "    \n",
    "    # Initialize average_frame. We will be adding the rest of the frames in the for loop\n",
    "    average_vector = encoded_frames[0] / number_of_frames\n",
    "    for i in range(1, len(encoded_frames)):\n",
    "        average_vector += encoded_frames[i] / number_of_frames\n",
    "    \n",
    "    return average_vector"
   ]
  },
  {
   "cell_type": "code",
   "execution_count": 25,
   "id": "faa5f9bd-2ce8-4895-befd-5d5bec3955a6",
   "metadata": {},
   "outputs": [],
   "source": [
    "def process_video(video_file, model, preprocess, saving_frames_per_second = 10, device = \"cpu\"):\n",
    "    frames = save_video_frames(video_file, saving_frames_per_second)\n",
    "    encoded_frames = apply_clip(frames, model, preprocess, device)\n",
    "    average_vector = average_vectors(encoded_frames)\n",
    "    return average_vector"
   ]
  },
  {
   "cell_type": "code",
   "execution_count": 27,
   "id": "3daf8321-7919-4643-9e7c-75c9d278d5a9",
   "metadata": {},
   "outputs": [],
   "source": [
    "frames = save_video_frames(\"football.mp4\", 1)\n",
    "encoded_frames = apply_clip(frames, model, preprocess)"
   ]
  },
  {
   "cell_type": "code",
   "execution_count": 20,
   "id": "c126343c-4933-47fd-b38e-e621959a88eb",
   "metadata": {},
   "outputs": [
    {
     "data": {
      "text/plain": [
       "10"
      ]
     },
     "execution_count": 20,
     "metadata": {},
     "output_type": "execute_result"
    }
   ],
   "source": [
    "len(encoded_frames)"
   ]
  },
  {
   "cell_type": "code",
   "execution_count": 31,
   "id": "bb522f25-6eba-4024-aa37-69f3785b6e2a",
   "metadata": {},
   "outputs": [
    {
     "data": {
      "text/plain": [
       "tensor([[-1.3518e-01, -3.2092e-01,  2.0781e-01, -1.0628e-01,  5.1675e-01,\n",
       "         -6.7412e-02,  2.1520e-02, -5.8846e-01, -8.6637e-02, -2.7533e-01,\n",
       "          1.9898e-03, -2.0490e-01,  7.1309e-01,  6.4703e-01, -2.5003e-01,\n",
       "         -8.0517e-02, -6.9651e-01,  7.0320e-01,  3.8460e-01, -9.3695e-02,\n",
       "         -1.5936e-01,  1.8842e-01, -1.3201e-02,  3.4823e-01,  1.0230e-02,\n",
       "         -2.9162e-01, -2.6660e-01, -2.5026e-01, -7.0919e-02, -1.4804e-01,\n",
       "         -5.2722e-01,  3.9126e-01, -6.5792e-01, -3.8299e-01,  4.0105e-01,\n",
       "          3.1995e-01, -1.8066e-01,  7.2472e-02,  3.6513e-01,  1.8472e+00,\n",
       "         -5.8928e-01, -2.0333e-01,  3.9182e-01, -1.1459e-01, -4.3590e-01,\n",
       "          1.9570e+00,  3.8751e-01, -3.5395e-01,  3.6742e-01, -2.0511e-01,\n",
       "          3.6374e-05,  2.0662e-01,  1.4818e-01,  4.4389e-02, -1.6615e-01,\n",
       "          9.9178e-03,  1.2454e-01,  4.5020e-02, -2.7934e-01, -6.8343e-02,\n",
       "          9.4762e-01, -2.0876e-01,  1.5982e-01,  6.9297e-01, -4.6680e-01,\n",
       "          2.5823e-01,  5.9937e-01,  9.8052e-01, -5.1797e-01,  2.6186e-01,\n",
       "         -5.8526e-02,  2.2971e-01, -1.2847e-01,  5.1012e-03,  2.4087e-01,\n",
       "          9.4298e-02,  9.7387e-02, -4.9979e-02, -8.1666e-02, -2.8438e-01,\n",
       "          3.7473e-02, -4.4481e-01, -1.1932e-01,  3.3878e-01, -2.0714e-01,\n",
       "         -7.0378e-02, -4.9468e-01,  1.8962e-01,  8.2715e-01, -2.0387e-01,\n",
       "         -1.5378e-01,  1.0279e-01, -5.5743e+00,  5.0615e-01, -7.2557e-02,\n",
       "         -3.7026e-02, -9.9049e-02, -5.1772e-02, -4.0376e-01, -5.8960e-01,\n",
       "          6.1601e-02, -1.1829e-01,  4.1283e-01,  2.8556e-02, -2.7308e-01,\n",
       "         -4.2324e-01, -1.3264e+00,  8.6468e-02, -8.1337e-02,  5.6354e-01,\n",
       "          9.8523e-02,  2.6456e-01,  5.1024e-02,  2.5694e-01,  3.7701e-01,\n",
       "          2.8073e-01, -5.0921e-01,  1.3223e-01,  2.6314e-01, -7.0381e-01,\n",
       "          5.1611e-02, -2.9702e-01, -3.9931e-02, -1.7624e-01,  4.7095e-02,\n",
       "         -1.5429e-01, -2.4061e-01, -1.3050e-01,  3.5218e-01, -3.6108e-01,\n",
       "          4.2784e-01,  2.6124e-01,  2.3922e-01,  7.5600e-01,  2.9926e-01,\n",
       "         -3.9432e-02, -1.8143e-01, -6.0887e-01, -2.1973e-01, -2.0077e-01,\n",
       "         -1.9380e-01,  1.4065e-02,  1.5167e-01,  4.5152e-02, -3.5065e-01,\n",
       "         -2.6460e-01, -3.2585e-01,  5.0107e-01, -2.4471e-01,  8.0919e-02,\n",
       "         -3.1804e-01, -2.6990e-01, -3.2241e-01, -3.4559e-02,  1.5384e-01,\n",
       "         -2.6604e-01, -9.7422e-03,  1.5313e-01, -2.1183e-01,  7.0171e-02,\n",
       "         -9.1475e-02,  3.8484e-01,  9.0465e-02, -2.2785e-02, -1.7133e-02,\n",
       "          6.7148e-02,  4.8754e-01, -1.0683e-01, -6.7947e-01,  8.1909e-02,\n",
       "          5.2978e-01, -2.7307e-01, -2.3456e-01, -3.4710e-02, -2.0542e-01,\n",
       "         -1.1794e-01, -1.1032e+00, -2.5171e-01,  1.9071e-01,  2.3428e-01,\n",
       "         -2.2352e-01, -6.5599e-01,  3.4789e-01,  2.9008e-01,  1.0973e-01,\n",
       "         -2.7696e-02, -3.1000e-02,  7.3538e-01, -9.8190e-02,  3.7714e-02,\n",
       "          1.7879e-01,  1.6534e-01,  7.2855e-02,  1.3409e-01, -2.6777e-01,\n",
       "         -2.6096e-01, -4.0814e-01, -6.3295e-01, -2.6107e-01, -3.0135e-01,\n",
       "         -1.9312e-01,  6.1301e-02, -4.7082e-01,  4.6857e-01, -5.0552e-02,\n",
       "          1.2792e-01, -2.9042e-01,  2.0934e-01,  4.4818e-02,  2.0067e-01,\n",
       "         -1.0233e+00,  6.3480e-01,  2.7681e-01, -8.7873e-02,  1.3588e-01,\n",
       "         -1.7174e-01,  2.2727e-01, -2.2817e-02,  1.8779e-01,  1.3110e-01,\n",
       "          2.4114e-01, -6.2111e-01, -2.7554e-01,  2.0095e-01, -1.0384e-02,\n",
       "          3.8308e-01, -2.6438e-02, -1.9498e-01, -8.6836e-02, -9.9450e-02,\n",
       "         -2.6163e-02,  1.1112e-01, -2.2165e-01, -2.9338e-01,  3.2188e-01,\n",
       "         -4.6412e-01,  1.0264e-01, -1.9245e-01, -2.3427e-01, -3.8444e-01,\n",
       "         -1.0385e-01,  5.7337e-01,  9.0994e-02,  2.7883e-01, -1.7369e-01,\n",
       "          2.5669e-01,  1.1134e-01,  4.1281e-01,  1.4045e-01, -2.8012e-02,\n",
       "          1.4873e-01,  2.1164e-01,  2.9756e-02,  3.0750e-02, -1.4878e-01,\n",
       "         -1.3047e-01, -4.4534e-01,  4.2296e-02, -2.3388e-01,  8.6095e-03,\n",
       "          2.0809e-01, -4.1424e-01, -3.2135e-01,  1.7518e+00,  1.9541e-02,\n",
       "         -3.7056e-01,  1.2103e-01, -1.1221e-01, -7.8532e-02,  4.5641e-01,\n",
       "         -1.4525e-01,  3.4147e-01,  2.0470e-02,  4.8628e-01,  2.0131e-01,\n",
       "         -1.5436e-01, -4.4887e-01,  8.5338e-02, -3.7307e-02,  2.6111e-01,\n",
       "          5.6900e-01,  4.0693e-01,  1.6873e-01,  1.7289e-01, -1.6984e-01,\n",
       "         -9.1116e-02,  2.0283e+00, -3.2354e-01, -1.5369e-01, -2.5333e-01,\n",
       "          1.8848e-01,  1.6459e-01, -1.5702e-01,  4.3745e-02, -2.5316e-01,\n",
       "          1.0226e-02, -3.7842e-01, -4.6994e-01,  2.3626e-01, -6.2443e-01,\n",
       "          1.4171e-01, -2.2830e-01, -2.9010e-01, -9.0391e-02,  1.3814e-01,\n",
       "         -7.4395e-01, -5.8204e-02, -6.7905e-02,  5.7190e-01,  1.0541e-01,\n",
       "         -3.6682e-01, -6.0690e-04,  7.5461e-01, -1.5622e-01,  6.6329e-02,\n",
       "          6.2145e-01,  2.1148e-01,  7.9896e-01, -5.0129e-01, -1.1348e-01,\n",
       "          2.9104e-01, -1.8772e+00, -1.3656e-01,  3.0554e-02, -3.0319e-01,\n",
       "         -3.9373e-01,  1.3582e-02, -3.9240e-01, -3.3918e-01, -5.7294e-01,\n",
       "          1.0375e-02,  1.3789e-01,  3.6502e-01, -1.6435e-01, -3.4760e-01,\n",
       "          3.1116e-01, -1.0504e-01,  3.5046e-01, -1.5816e-01,  4.0930e-01,\n",
       "         -2.4536e-01, -1.4627e-01, -1.6469e-01,  4.1203e-02,  2.6268e-01,\n",
       "          1.8684e-01, -4.0263e-01,  3.4509e-04,  3.2258e-01,  5.9406e-03,\n",
       "          4.2138e-01,  1.8469e-01,  1.0143e-01,  5.3090e-01,  1.9761e-02,\n",
       "         -7.2416e-01,  2.9700e-02, -3.8163e-01,  3.2576e-02, -7.1795e-02,\n",
       "         -1.9184e-01,  2.1279e-01,  2.8417e-01, -3.1200e-01, -7.8229e-02,\n",
       "          3.0296e-02,  6.4249e-02, -2.4611e-02, -1.4434e-01, -1.7233e-01,\n",
       "          3.3860e-01, -5.6006e-01,  2.1407e-01, -2.7251e-01,  1.0515e-01,\n",
       "          1.7307e-01,  6.3565e-01,  3.2483e-01, -7.0879e-01,  2.3951e-01,\n",
       "          1.7276e-01,  4.0929e-01, -4.2670e-01, -4.3072e-01,  8.1262e-02,\n",
       "         -1.1057e-01,  1.2826e-01, -5.3490e-02,  5.5032e-02,  8.2369e-01,\n",
       "         -4.8020e-01,  2.8175e-01, -2.3639e-01, -3.6526e-01, -4.0483e-02,\n",
       "         -3.5879e-01,  1.9741e-01,  6.5296e-02, -7.5365e-02,  4.1956e-01,\n",
       "          4.0115e-01,  1.4035e-01,  8.7726e-01, -2.0396e-01, -4.0819e-02,\n",
       "          1.0874e-01,  2.5407e-01, -3.6089e-01,  2.6744e-01,  5.4164e-02,\n",
       "          1.4938e-01, -6.6963e-02,  2.7258e-02, -3.2614e-02, -2.3334e-01,\n",
       "          1.4867e-01,  1.6403e-01, -8.7278e-02, -4.3058e-01, -2.1003e-01,\n",
       "         -1.0649e-01, -4.7094e-02,  1.3695e-01,  5.5035e-01, -1.9202e-01,\n",
       "          2.1346e-01,  1.6045e-01,  2.3094e-01,  4.2533e-04,  1.3938e-01,\n",
       "          3.4905e-03,  8.3340e-02, -8.9287e-01,  1.7081e-01, -4.6319e-01,\n",
       "         -1.8807e-01, -2.7288e-01, -3.9728e-01, -1.3274e-01,  1.2800e-01,\n",
       "         -2.0125e-02, -2.2184e-01, -2.1579e-01,  1.6442e-01,  3.4966e-01,\n",
       "          4.8760e-02, -3.9286e-01,  5.7804e-01,  1.0367e-01,  4.3222e-01,\n",
       "         -3.7279e-03, -7.8641e-02, -4.2029e-01,  2.9577e-01,  2.0339e-01,\n",
       "         -1.2102e-01,  2.5168e-01, -3.3369e-02,  8.7660e-03, -7.4694e-03,\n",
       "          4.0747e-03, -4.9029e-01, -1.1794e-01,  1.1804e-01, -6.2268e-02,\n",
       "         -5.2261e-02,  1.0198e-01,  1.8019e-01, -1.9787e-01, -5.5127e-01,\n",
       "          1.4015e-01, -5.0169e-01,  7.0159e-02, -1.1805e-01, -2.0611e-01,\n",
       "         -4.6118e-01,  1.5221e-01, -7.9720e-04, -2.2869e-01,  3.8261e-01,\n",
       "         -1.1787e-01, -5.3456e-01,  3.7645e-02, -1.9448e-01, -7.0653e-02,\n",
       "          2.1353e-01,  1.1096e-01,  5.2839e-01, -1.1722e-01, -9.7152e-02,\n",
       "          1.2677e-01, -1.2338e-01, -5.6190e-01,  2.7198e-01, -1.9303e-02,\n",
       "          1.6978e-01,  1.5856e-01,  1.3749e-02, -9.6838e-02,  4.4177e-01,\n",
       "          7.8250e-04, -1.8383e-01,  8.3716e-02, -1.0512e-01, -1.9761e-01,\n",
       "         -3.5767e-01,  1.9820e-01,  2.3268e-01,  1.6853e-01,  1.8575e-01,\n",
       "          2.9244e-01,  4.3641e-01]])"
      ]
     },
     "execution_count": 31,
     "metadata": {},
     "output_type": "execute_result"
    }
   ],
   "source": [
    "process_video(\"football.mp4\", model, preprocess, 10)"
   ]
  },
  {
   "cell_type": "code",
   "execution_count": null,
   "id": "c247c7f9-76cc-4463-96a3-2ef06bfe5ec4",
   "metadata": {},
   "outputs": [],
   "source": []
  }
 ],
 "metadata": {
  "kernelspec": {
   "display_name": "Python 3 (ipykernel)",
   "language": "python",
   "name": "python3"
  },
  "language_info": {
   "codemirror_mode": {
    "name": "ipython",
    "version": 3
   },
   "file_extension": ".py",
   "mimetype": "text/x-python",
   "name": "python",
   "nbconvert_exporter": "python",
   "pygments_lexer": "ipython3",
   "version": "3.8.8"
  }
 },
 "nbformat": 4,
 "nbformat_minor": 5
}
